{
 "cells": [
  {
   "cell_type": "markdown",
   "id": "b0e3943e-ac30-4b76-8221-3ef93c84a977",
   "metadata": {},
   "source": [
    "Prueba."
   ]
  },
  {
   "cell_type": "code",
   "execution_count": 1,
   "id": "f4f11593-41e0-4185-aeff-461c6ed63eb7",
   "metadata": {},
   "outputs": [
    {
     "name": "stdout",
     "output_type": "stream",
     "text": [
      "I did it\n"
     ]
    }
   ],
   "source": [
    "print(\"I did it\")"
   ]
  }
 ],
 "metadata": {
  "kernelspec": {
   "display_name": "Python 3 (ipykernel)",
   "language": "python",
   "name": "python3"
  },
  "language_info": {
   "codemirror_mode": {
    "name": "ipython",
    "version": 3
   },
   "file_extension": ".py",
   "mimetype": "text/x-python",
   "name": "python",
   "nbconvert_exporter": "python",
   "pygments_lexer": "ipython3",
   "version": "3.12.0"
  }
 },
 "nbformat": 4,
 "nbformat_minor": 5
}
